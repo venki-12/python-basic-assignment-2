{
 "cells": [
  {
   "cell_type": "markdown",
   "metadata": {},
   "source": [
    "1.What are the two values of the Boolean data type? How do you write them?\n",
    "\n",
    "True and False are two values of boolean and while writing boolean first letter should be uppercase.\n"
   ]
  },
  {
   "cell_type": "code",
   "execution_count": 3,
   "metadata": {},
   "outputs": [
    {
     "name": "stdout",
     "output_type": "stream",
     "text": [
      "<class 'bool'>\n",
      "<class 'bool'>\n"
     ]
    }
   ],
   "source": [
    "print(type(True))\n",
    "print(type(False))"
   ]
  },
  {
   "cell_type": "markdown",
   "metadata": {},
   "source": [
    "2. What are the three different types of Boolean operators?\n",
    "\n",
    "Three types of boolean are and, or & not\n"
   ]
  },
  {
   "cell_type": "code",
   "execution_count": null,
   "metadata": {},
   "outputs": [],
   "source": [
    "#3. Make a list of each Boolean operator's truth tables (i.e. every possible combination of Boolean values for the operator and what it evaluate ).\n",
    "\n",
    "#True and True is True\n",
    "#True and False is False\n",
    "#False and True is False\n",
    "#False and False is False\n",
    "\n",
    "#True or True  is True\n",
    "#True or False is True\n",
    "#False or True is True\n",
    "#False or False is False\n",
    "\n",
    "#not True is False\n",
    "#not False is True"
   ]
  },
  {
   "cell_type": "code",
   "execution_count": 6,
   "metadata": {},
   "outputs": [],
   "source": [
    "#4. What are the values of the following expressions?\n",
    "\n",
    "#(5 > 4) and (3 == 5)\n",
    "#not (5 > 4)\n",
    "#(5 > 4) or (3 == 5)\n",
    "#not ((5 > 4) or (3 == 5))\n",
    "#(True and True) and (True == False)\n",
    "#(not False) or (not True)"
   ]
  },
  {
   "cell_type": "code",
   "execution_count": 12,
   "metadata": {},
   "outputs": [
    {
     "data": {
      "text/plain": [
       "True"
      ]
     },
     "execution_count": 12,
     "metadata": {},
     "output_type": "execute_result"
    }
   ],
   "source": [
    "(5 > 4) and (3 == 5)\n",
    "#this gives False\n",
    "not (5 > 4)\n",
    "#this gives False\n",
    "(5 > 4) or (3 == 5)\n",
    "#this gives True\n",
    "not ((5 > 4) or (3 == 5))\n",
    "#this gives False\n",
    "(True and True) and (True == False)\n",
    "#this gives False\n",
    "(not False) or (not True)\n",
    "#this gives True"
   ]
  },
  {
   "cell_type": "code",
   "execution_count": 14,
   "metadata": {},
   "outputs": [],
   "source": [
    "#5. What are the six comparison operators?\n",
    "\n",
    "#  (equals equals to) == , (not eequals to ) != , (less than) <  , (greater than) >,(less than or equals to) <=,  and (greather than or equals to)>= are six comparision operators."
   ]
  },
  {
   "cell_type": "code",
   "execution_count": 18,
   "metadata": {},
   "outputs": [
    {
     "name": "stdout",
     "output_type": "stream",
     "text": [
      "True\n",
      "False\n"
     ]
    }
   ],
   "source": [
    "#6. How do you tell the difference between the equal to and assignment operators?Describe a condition and when you would use one.\n",
    "\n",
    "#  == is equal to operator which compares two values and results in boolean , whereas = assignment operator assigns variable a value\n",
    "\n",
    "print(23 == 23), print(45== 43)\n",
    "\n",
    "x = 'hello'\n",
    "a = 24\n"
   ]
  },
  {
   "cell_type": "code",
   "execution_count": 22,
   "metadata": {},
   "outputs": [],
   "source": [
    "##7. Identify the three blocks in this code:\n",
    " #spam = 0\n",
    "#if spam == 10:\n",
    "#print('eggs')\n",
    "#if spam > 5:\n",
    "#print('bacon')\n",
    "#else:\n",
    "#print('ham')\n",
    "#print('spam')\n",
    "#print('spam')\n",
    "\n",
    "\n",
    "#three blocks are  everythng that comes inside if and else state ment\n",
    "# print('eggs')\n",
    "#p rint('bacon')\n",
    "# print('ham')\n",
    "\n",
    "#are three bloks of code."
   ]
  },
  {
   "cell_type": "code",
   "execution_count": 28,
   "metadata": {},
   "outputs": [
    {
     "name": "stdout",
     "output_type": "stream",
     "text": [
      "enter the input0\n",
      "Greetings!\n"
     ]
    }
   ],
   "source": [
    "#8. Write code that prints Hello if 1 is stored in spam, prints Howdy if 2 is stored in spam, and prints Greetings! if anything else is stored in spam.\n",
    "\n",
    "spam = int(input(\"enter the input\"))\n",
    "if spam == 1 :\n",
    "    print('Hello')\n",
    "    \n",
    "elif spam == 2 :\n",
    "    print('Howdy')\n",
    "    \n",
    "else:\n",
    "    print('Greetings!')\n",
    "\n"
   ]
  },
  {
   "cell_type": "code",
   "execution_count": 30,
   "metadata": {},
   "outputs": [],
   "source": [
    "#9.If your programme is stuck in an endless loop, what keys you’ll press?\n",
    "\n",
    "# we need to press CTRL+C to stop the infinite loop."
   ]
  },
  {
   "cell_type": "code",
   "execution_count": 1,
   "metadata": {},
   "outputs": [],
   "source": [
    "#10. How can you tell the difference between break and continue?\n",
    "\n",
    "# Break statement is mainly used as exit statement.Which helps in escaping from current loop or block.\n",
    "\n",
    "# Continue statement helps to jump from current iteration to next iteration.\n"
   ]
  },
  {
   "cell_type": "code",
   "execution_count": 8,
   "metadata": {},
   "outputs": [
    {
     "name": "stdout",
     "output_type": "stream",
     "text": [
      "0\n",
      "1\n",
      "2\n",
      "3\n",
      "4\n",
      "5\n",
      "6\n",
      "7\n",
      "8\n",
      "9\n",
      "0\n",
      "1\n",
      "2\n",
      "3\n",
      "4\n",
      "5\n",
      "6\n",
      "7\n",
      "8\n",
      "9\n",
      "0\n",
      "1\n",
      "2\n",
      "3\n",
      "4\n",
      "5\n",
      "6\n",
      "7\n",
      "8\n",
      "9\n"
     ]
    }
   ],
   "source": [
    "# 11. In a for loop, what is the difference between range(10), range(0, 10), and range(0, 10, 1)?\n",
    "\n",
    "for i in range(10):\n",
    "    print(i)\n",
    " # in this it gives elements till 10 ,but does not in clude upper limit.we are not giving lower limit as by default lower limit will be 0.\n",
    " # step size is not mentioned by deafult argument it wwill be 1\n",
    "    \n",
    "    \n",
    "for i in range(0,10):\n",
    "    print(i)\n",
    "    \n",
    "# in this it gives elements till 10 ,but does not in clude upper limit.\n",
    "# In this we are just mentioning the lower limit.\n",
    "# step size is not mentioned by deafult argument it wwill be 1\n",
    "\n",
    "for i in range (0,10,1):\n",
    "    print(i)\n",
    "    \n",
    "# in this it gives elements till 10 ,but does not in clude upper limit.\n",
    "# In this we are just mentioning the lower limit.\n",
    "# step size is mentioned  as 1, even by  deafult argument it wwill be 1\n",
    "\n",
    "#from result we conclude that there is no diffrence in the aove mentioned statements.\n"
   ]
  },
  {
   "cell_type": "code",
   "execution_count": 12,
   "metadata": {},
   "outputs": [
    {
     "name": "stdout",
     "output_type": "stream",
     "text": [
      "1\n",
      "2\n",
      "3\n",
      "4\n",
      "5\n",
      "6\n",
      "7\n",
      "8\n",
      "9\n",
      "10\n",
      "1\n",
      "2\n",
      "3\n",
      "4\n",
      "5\n",
      "6\n",
      "7\n",
      "8\n",
      "9\n",
      "10\n"
     ]
    }
   ],
   "source": [
    "# 12. Write a short program that prints the numbers 1 to 10 using a for loop. Then write an equivalent program that prints the numbers 1 to 10 using a while loop.\n",
    "\n",
    "for i in range(1,11):\n",
    "    print (i)\n",
    "    \n",
    "\n",
    "x=1\n",
    "while x <=10 :\n",
    "    print(x)\n",
    "    x +=1"
   ]
  },
  {
   "cell_type": "code",
   "execution_count": null,
   "metadata": {},
   "outputs": [],
   "source": [
    "# 13. If you had a function named bacon() inside a module named spam, how would you call it after importing spam?\n",
    "\n",
    "# this can be called as spam.bacon()"
   ]
  }
 ],
 "metadata": {
  "kernelspec": {
   "display_name": "Python 3",
   "language": "python",
   "name": "python3"
  },
  "language_info": {
   "codemirror_mode": {
    "name": "ipython",
    "version": 3
   },
   "file_extension": ".py",
   "mimetype": "text/x-python",
   "name": "python",
   "nbconvert_exporter": "python",
   "pygments_lexer": "ipython3",
   "version": "3.8.5"
  }
 },
 "nbformat": 4,
 "nbformat_minor": 4
}
